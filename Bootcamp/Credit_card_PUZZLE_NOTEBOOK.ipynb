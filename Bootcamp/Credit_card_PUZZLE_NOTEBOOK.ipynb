{
 "cells": [
  {
   "cell_type": "raw",
   "id": "3e5fbb20-e64e-42f6-a300-ef6363bd1d8a",
   "metadata": {},
   "source": [
    "Kredi Karti Müsteri Datasi-PUZZLE NOTEBOOK"
   ]
  },
  {
   "cell_type": "raw",
   "id": "69214e40-1673-426d-8724-e45d68eb7e8d",
   "metadata": {},
   "source": [
    "CLIENTNUM: Benzersiz müşteri tanımlayıcı.\n",
    "Attrition_Flag : Müşterinin hesabının aktif mi yoksa kapatılmış mı olduğunu belirtir.\n",
    "\n",
    "Demografik Özellikler: \n",
    "    Customer_Age : Müşterinin yaşı.\n",
    "    Cinsiyet : Müşterinin cinsiyeti.\n",
    "    Dependent_count : Müşterinin bakmakla yükümlü olduğu kişi sayısı.\n",
    "    Education_Level : Müşterinin eğitim düzeyi.\n",
    "    Medeni_Status : Müşterinin medeni durumu.\n",
    "        \n",
    "Finansal:\n",
    "    Income_Category : Müşterinin gelir kategorisi.\n",
    "        \n",
    "Banka müsterisi olarak kisiye ait bilgiler:\n",
    "    Card_Category : Müşterinin elinde bulunan kredi kartının kategorisi.\n",
    "    Months_on_book : Müşterinin banka müşterisi olduğu ay sayısı.\n",
    "    Total_Relationship_Count : Müşterinin elinde bulunan toplam banka ürünü sayısı.\n",
    "    Months_Inactive_12_mon : Son 12 ayda işlem yapılmayan ayların sayısı.\n",
    "    Contacts_Count_12_mon : Son 12 ay içinde bankayla yapılan temasların sayısı.\n",
    "    Credit_Limit : Kredi kartındaki kredi limiti.\n",
    "    Total_Revolving_Bal : Kredi kartındaki toplam döner bakiye.\n",
    "    Avg_Open_To_Buy : Kredi kartındaki ortalama açık satın alma kredi limiti.\n",
    "    Total_Amt_Chng_Q4_Q1 : Son dört çeyrekte işlem tutarındaki değişiklik.\n",
    "    Total_Trans_Amt : Son 12 aydaki toplam işlem tutarı.\n",
    "    Total_Trans_Ct : Son 12 aydaki toplam işlem sayısı.\n",
    "    Total_Ct_Chng_Q4_Q1 : Son dört çeyrekte işlem sayısındaki değişiklik.\n",
    "    Avg_Utilization_Ratio : Kredi kartının ortalama kullanım oranı."
   ]
  },
  {
   "cell_type": "raw",
   "id": "00e26deb-a3c7-483d-957d-a9669db9d7c4",
   "metadata": {
    "scrolled": true
   },
   "source": [
    "df['Income_Category'].value_counts()"
   ]
  },
  {
   "cell_type": "raw",
   "id": "89a25330-7f22-457b-9182-ff1ed636dae0",
   "metadata": {},
   "source": [
    "df.info()"
   ]
  },
  {
   "cell_type": "raw",
   "id": "5ef57e5b-cfd6-44aa-8615-c7b48195d159",
   "metadata": {
    "scrolled": true
   },
   "source": [
    "df = pd.read_excel(\"CreditCard_Customer_data.xlsx\")"
   ]
  },
  {
   "cell_type": "raw",
   "id": "98cb9e49-a4ba-408d-bef9-68b955ce534c",
   "metadata": {
    "scrolled": true
   },
   "source": [
    "df.describe(include='O').T     # Descriptive analysis for categorical data"
   ]
  },
  {
   "cell_type": "raw",
   "id": "b60b1d3b-57df-48a4-b2e9-a56a67acfbea",
   "metadata": {
    "scrolled": true
   },
   "source": [
    "df.head()"
   ]
  },
  {
   "cell_type": "raw",
   "id": "ba183235-37b2-44c0-9ad2-70f46b9a91cc",
   "metadata": {},
   "source": [
    "Distribution of Credit Card Holders by Age"
   ]
  },
  {
   "cell_type": "raw",
   "id": "796a0800-05e9-47bf-846c-a370842392a7",
   "metadata": {},
   "source": [
    "df.describe([0.90,0.95,0.99]).T      #Outlier'lara ilk bakista ..."
   ]
  },
  {
   "cell_type": "raw",
   "id": "be4ac467-8283-4ff9-a6f0-cd741e275693",
   "metadata": {},
   "source": [
    "df.hist('Customer_Age',color = \"skyblue\", ec=\"black\", lw=2)"
   ]
  },
  {
   "cell_type": "raw",
   "id": "7fb1c2ab-9b08-4668-bb73-553dc2cf3e20",
   "metadata": {},
   "source": [
    "#apply percentage format to y-axis\n",
    "from matplotlib.ticker import PercentFormatter\n",
    "\n",
    "#create histogram, using percentages instead of counts\n",
    "\n",
    "plt.hist(df['Customer_Age'], weights=np.ones(len(df)) / len(df), color = 'pink', edgecolor=\"black\", lw=2)\n",
    "plt.grid(True) ##Grid plotting\n",
    "#apply percentage format to y-axis\n",
    "plt.gca().yaxis.set_major_formatter(PercentFormatter(1))\n",
    "plt.show()\n"
   ]
  },
  {
   "cell_type": "raw",
   "id": "fcf48515-27de-4020-afad-a00ee05f7d20",
   "metadata": {},
   "source": [
    "df.isnull().sum()"
   ]
  },
  {
   "cell_type": "raw",
   "id": "22189e6e-b355-4c28-9a2a-39fb7fc811f2",
   "metadata": {},
   "source": [
    "import numpy as np\n",
    "import pandas as pd\n",
    "import seaborn as sns\n",
    "from matplotlib import pyplot as plt\n",
    "\n",
    "import warnings\n",
    "warnings.simplefilter(action='ignore', category=FutureWarning)\n",
    "\n",
    "pd.set_option('display.max_columns', None)\n",
    "pd.set_option('display.max_rows', None)\n",
    "pd.set_option('display.float_format', lambda x: '%.3f' % x)\n",
    "pd.set_option('display.width', 500)\n"
   ]
  },
  {
   "cell_type": "raw",
   "id": "82017ac3-9c6a-430a-8970-7d8a364f2138",
   "metadata": {},
   "source": [
    "Distribution of Credit Card Holders by Marital Status"
   ]
  },
  {
   "cell_type": "raw",
   "id": "5959ba08-f551-4b75-a3cf-1e2a7729b2e8",
   "metadata": {},
   "source": [
    "sns.set_style(\"darkgrid\")\n",
    "ax = sns.countplot(x = df['Marital_Status'], palette=[\"#7fcdbb\",\"#fc9272\",\"#FAAE7B\",\"#fee0d2\"])\n",
    "# get the total count of the type column\n",
    "total = df['Marital_Status'].count()\n",
    "\n",
    "# annotate the bars with fmt from matplotlib v3.7.0\n",
    "ax.bar_label(ax.containers[0], fmt=lambda x: f'{(x/total)*100:0.1f}%')\n",
    "plt.show()"
   ]
  },
  {
   "cell_type": "raw",
   "id": "b0e29b08-d766-4bc2-acac-ed8842d4c9d7",
   "metadata": {},
   "source": [
    "sns.set_style(\"darkgrid\")\n",
    "ax = sns.countplot(x = df['Income_Category'], palette=[\"#7fcdbb\"])\n",
    "# get the total count of the type column\n",
    "total = df['Income_Category'].count()\n",
    "\n",
    "# annotate the bars with fmt from matplotlib v3.7.0\n",
    "ax.bar_label(ax.containers[0], fmt=lambda x: f'{(x/total)*100:0.1f}%')\n",
    "plt.xticks(rotation=45)\n",
    "plt.show()"
   ]
  },
  {
   "cell_type": "raw",
   "id": "1f048714-e0a7-4f60-a6c9-4ac307f75128",
   "metadata": {},
   "source": [
    "sns.set_style(\"darkgrid\")\n",
    "ax = sns.countplot(x = df['Education_Level'], palette=[\"#7fcdbb\"])\n",
    "# get the total count of the type column\n",
    "total = df['Education_Level'].count()\n",
    "\n",
    "# annotate the bars with fmt from matplotlib v3.7.0\n",
    "ax.bar_label(ax.containers[0], fmt=lambda x: f'{(x/total)*100:0.1f}%')\n",
    "plt.xticks(rotation=45)\n",
    "plt.show()"
   ]
  },
  {
   "cell_type": "raw",
   "id": "68520221-33fe-4444-b577-a9a4ad2a855f",
   "metadata": {},
   "source": [
    "sns.set_style(\"darkgrid\")\n",
    "ax = sns.countplot(x = df['Card_Category'], palette=[\"#7fcdbb\"])\n",
    "# get the total count of the type column\n",
    "total = df['Card_Category'].count()\n",
    "\n",
    "# annotate the bars with fmt from matplotlib v3.7.0\n",
    "ax.bar_label(ax.containers[0], fmt=lambda x: f'{(x/total)*100:0.1f}%')\n",
    "plt.show()"
   ]
  },
  {
   "cell_type": "raw",
   "id": "53831103-29a2-49da-8a8e-4249518813c0",
   "metadata": {},
   "source": [
    "sns.set_style(\"darkgrid\")\n",
    "ax = sns.countplot(x = df['Education_Level'], palette=[\"#7fcdbb\"])\n",
    "# get the total count of the type column\n",
    "total = df['Education_Level'].count()\n",
    "\n",
    "# annotate the bars with fmt from matplotlib v3.7.0\n",
    "ax.bar_label(ax.containers[0], fmt=lambda x: f'{(x/total)*100:0.1f}%')\n",
    "plt.xticks(rotation=45)\n",
    "plt.show()"
   ]
  },
  {
   "cell_type": "raw",
   "id": "d914e138-52e3-49f2-a2e8-c53a9a263cfd",
   "metadata": {},
   "source": [
    "plt.title('Education_Level')\n",
    "sns.boxplot(x=df['Education_Level'], y=df.Credit_Limit, palette=('Blues'))\n",
    "plt.xticks(rotation=45)\n",
    "plt.show()"
   ]
  },
  {
   "cell_type": "raw",
   "id": "0179c0d3-f689-481e-a3e3-51f697338ddf",
   "metadata": {},
   "source": [
    "plt.figure(figsize=(20,5))\n",
    "\n",
    "plt.subplot(1,4,1)\n",
    "plt.title('Attrition_Flag vs Customer_Age')\n",
    "sns.boxplot(x=df.Attrition_Flag, y=df.Customer_Age, palette=(\"cubehelix\"))\n",
    "\n",
    "plt.subplot(1,4,2)\n",
    "plt.title('Attrition_Flag vs Avg_Open_To_Buy')\n",
    "sns.boxplot(x=df.Attrition_Flag, y=df.Avg_Open_To_Buy, palette=(\"PuBuGn\"))\n",
    "\n",
    "plt.subplot(1,4,3)\n",
    "plt.title('Attrition_Flag vs Total_Trans_Amt')\n",
    "sns.boxplot(x=df.Attrition_Flag, y=df.Total_Trans_Amt, palette=(\"Blues\"))\n",
    "\n",
    "\n",
    "plt.subplot(1,4,4)\n",
    "plt.title('Attrition_Flag vs Total_Trans_Ct')\n",
    "sns.boxplot(x=df.Attrition_Flag, y=df.Total_Trans_Ct, palette=(\"Blues\"))\n",
    "\n",
    "plt.show()"
   ]
  },
  {
   "cell_type": "raw",
   "id": "dfe9c204-7a7d-430c-a090-d46898dace27",
   "metadata": {},
   "source": [
    "plt.title('Card_Category')\n",
    "sns.boxplot(x=df['Card_Category'], y=df['Avg_Utilization_Ratio'], palette=('Blues'))\n",
    "plt.show()"
   ]
  },
  {
   "cell_type": "raw",
   "id": "46dcefdc-3d03-4b27-be16-2a8b0746340a",
   "metadata": {},
   "source": [
    "plt.title('Attrition_Flag vs Credit_Limit')\n",
    "sns.boxplot(x=df['Attrition_Flag'], y=df[\"Credit_Limit\"], palette=('Blues'))"
   ]
  },
  {
   "cell_type": "raw",
   "id": "afda8729-6d26-41fe-9a07-7ee90b2d6d99",
   "metadata": {},
   "source": [
    "plt.figure(figsize=(20,5))\n",
    "\n",
    "plt.subplot(1,4,1)\n",
    "plt.title('Attrition_Flag vs Dependent_count')\n",
    "sns.boxplot(x=df.Attrition_Flag, y=df.Dependent_count, palette=(\"cubehelix\"))\n",
    "\n",
    "plt.subplot(1,4,2)\n",
    "plt.title('Attrition_Flag vs Months_on_book')\n",
    "sns.boxplot(x=df.Attrition_Flag, y=df.Months_on_book, palette=(\"PuBuGn\"))\n",
    "\n",
    "plt.subplot(1,4,3)\n",
    "plt.title('Attrition_Flag vs Months_Inactive_12_mon')\n",
    "sns.boxplot(x=df.Attrition_Flag, y=df.Months_Inactive_12_mon, palette=(\"Blues\"))\n",
    "\n",
    "\n",
    "plt.subplot(1,4,4)\n",
    "plt.title('Attrition_Flag vs Contacts_Count_12_mon')\n",
    "sns.boxplot(x=df.Attrition_Flag, y=df.Contacts_Count_12_mon, palette=(\"Blues\"))\n",
    "\n",
    "plt.show()"
   ]
  },
  {
   "cell_type": "raw",
   "id": "4eb34583-1456-4654-88ec-3b027ba606ff",
   "metadata": {},
   "source": [
    "#Correlation \n",
    "plt.scatter(df['Credit_Limit'], df['Avg_Utilization_Ratio'])\n",
    "plt.xlabel(\"Avg_Utilization_Ratio\")\n",
    "plt.ylabel(\"Credit_Limit\")\n",
    "plt.show()"
   ]
  },
  {
   "cell_type": "raw",
   "id": "ba4f288f-7bd8-4096-97a7-81e39ee193d9",
   "metadata": {},
   "source": []
  }
 ],
 "metadata": {
  "kernelspec": {
   "display_name": "Python 3 (ipykernel)",
   "language": "python",
   "name": "python3"
  },
  "language_info": {
   "codemirror_mode": {
    "name": "ipython",
    "version": 3
   },
   "file_extension": ".py",
   "mimetype": "text/x-python",
   "name": "python",
   "nbconvert_exporter": "python",
   "pygments_lexer": "ipython3",
   "version": "3.11.6"
  }
 },
 "nbformat": 4,
 "nbformat_minor": 5
}
